{
 "cells": [
  {
   "cell_type": "markdown",
   "metadata": {},
   "source": [
    "# Navigation\n",
    "\n",
    "---\n",
    "\n",
    "You are welcome to use this coding environment to train your agent for the project.  Follow the instructions below to get started!\n",
    "\n",
    "### 1. Start the Environment\n",
    "\n",
    "Run the next code cell to install a few packages.  This line will take a few minutes to run!"
   ]
  },
  {
   "cell_type": "code",
   "execution_count": 1,
   "metadata": {},
   "outputs": [],
   "source": [
    "!pip -q install ./python"
   ]
  },
  {
   "cell_type": "markdown",
   "metadata": {},
   "source": [
    "The environment is already saved in the Workspace and can be accessed at the file path provided below.  Please run the next code cell without making any changes."
   ]
  },
  {
   "cell_type": "code",
   "execution_count": 4,
   "metadata": {},
   "outputs": [
    {
     "name": "stderr",
     "output_type": "stream",
     "text": [
      "INFO:unityagents:\n",
      "'Academy' started successfully!\n",
      "Unity Academy name: Academy\n",
      "        Number of Brains: 1\n",
      "        Number of External Brains : 1\n",
      "        Lesson number : 0\n",
      "        Reset Parameters :\n",
      "\t\t\n",
      "Unity brain name: BananaBrain\n",
      "        Number of Visual Observations (per agent): 0\n",
      "        Vector Observation space type: continuous\n",
      "        Vector Observation space size (per agent): 37\n",
      "        Number of stacked Vector Observation: 1\n",
      "        Vector Action space type: discrete\n",
      "        Vector Action space size (per agent): 4\n",
      "        Vector Action descriptions: , , , \n"
     ]
    }
   ],
   "source": [
    "from unityagents import UnityEnvironment\n",
    "\n",
    "\n",
    "import numpy as np\n",
    "import random\n",
    "import torch\n",
    "import numpy as np\n",
    "from collections import deque\n",
    "import matplotlib.pyplot as plt\n",
    "%matplotlib inline\n",
    "\n",
    "\n",
    "\n",
    "\n",
    "# please do not modify the line below\n",
    "env = UnityEnvironment(file_name=\"./Banana_Windows_x86_64/banana.exe\")"
   ]
  },
  {
   "cell_type": "markdown",
   "metadata": {},
   "source": [
    "Environments contain **_brains_** which are responsible for deciding the actions of their associated agents. Here we check for the first brain available, and set it as the default brain we will be controlling from Python."
   ]
  },
  {
   "cell_type": "code",
   "execution_count": 5,
   "metadata": {},
   "outputs": [],
   "source": [
    "# get the default brain\n",
    "brain_name = env.brain_names[0]\n",
    "brain = env.brains[brain_name]"
   ]
  },
  {
   "cell_type": "markdown",
   "metadata": {},
   "source": [
    "### 2. Examine the State and Action Spaces\n",
    "\n",
    "The simulation contains a single agent that navigates a large environment.  At each time step, it has four actions at its disposal:\n",
    "- `0` - walk forward \n",
    "- `1` - walk backward\n",
    "- `2` - turn left\n",
    "- `3` - turn right\n",
    "\n",
    "The state space has `37` dimensions and contains the agent's velocity, along with ray-based perception of objects around agent's forward direction.  A reward of `+1` is provided for collecting a yellow banana, and a reward of `-1` is provided for collecting a blue banana. \n",
    "\n",
    "Run the code cell below to print some information about the environment."
   ]
  },
  {
   "cell_type": "code",
   "execution_count": 6,
   "metadata": {},
   "outputs": [
    {
     "name": "stdout",
     "output_type": "stream",
     "text": [
      "Number of agents: 1\n",
      "Number of actions: 4\n",
      "States look like: [1.         0.         0.         0.         0.84408134 0.\n",
      " 0.         1.         0.         0.0748472  0.         1.\n",
      " 0.         0.         0.25755    1.         0.         0.\n",
      " 0.         0.74177343 0.         1.         0.         0.\n",
      " 0.25854847 0.         0.         1.         0.         0.09355672\n",
      " 0.         1.         0.         0.         0.31969345 0.\n",
      " 0.        ]\n",
      "States have length: 37\n"
     ]
    }
   ],
   "source": [
    "# reset the environment\n",
    "env_info = env.reset(train_mode=False)[brain_name]\n",
    "\n",
    "# number of agents in the environment\n",
    "print('Number of agents:', len(env_info.agents))\n",
    "\n",
    "# number of actions\n",
    "action_size = brain.vector_action_space_size\n",
    "print('Number of actions:', action_size)\n",
    "\n",
    "# examine the state space \n",
    "state = env_info.vector_observations[0]\n",
    "print('States look like:', state)\n",
    "state_size = len(state)\n",
    "print('States have length:', state_size)"
   ]
  },
  {
   "cell_type": "markdown",
   "metadata": {},
   "source": [
    "### 3. Take Random Actions in the Environment\n",
    "\n",
    "In the next code cell, you will learn how to use the Python API to control the agent and receive feedback from the environment.\n",
    "\n",
    "Once this cell is executed, you will watch the agent's performance, if it selects an action (uniformly) at random with each time step.  A window should pop up that allows you to observe the agent, as it moves through the environment.  \n",
    "\n",
    "Of course, as part of the project, you'll have to change the code so that the agent is able to use its experience to gradually choose better actions when interacting with the environment!"
   ]
  },
  {
   "cell_type": "code",
   "execution_count": 7,
   "metadata": {},
   "outputs": [
    {
     "name": "stdout",
     "output_type": "stream",
     "text": [
      "state [0.         1.         0.         0.         0.16895212 0.\n",
      " 1.         0.         0.         0.20073597 1.         0.\n",
      " 0.         0.         0.12865657 0.         1.         0.\n",
      " 0.         0.14938059 1.         0.         0.         0.\n",
      " 0.58185619 0.         1.         0.         0.         0.16089135\n",
      " 0.         1.         0.         0.         0.31775284 0.\n",
      " 0.        ]\n",
      "Score: 0.0\n"
     ]
    }
   ],
   "source": [
    "env_info = env.reset(train_mode=True)[brain_name] # reset the environment\n",
    "state = env_info.vector_observations[0]            # get the current state\n",
    "print(\"state\", state)\n",
    "score = 0                                          # initialize the score\n",
    "while True:\n",
    "    action = np.random.randint(action_size)        # select an action\n",
    "    env_info = env.step(action)[brain_name]        # send the action to the environment\n",
    "    next_state = env_info.vector_observations[0]   # get the next state\n",
    "    reward = env_info.rewards[0]                   # get the reward\n",
    "    done = env_info.local_done[0]                  # see if episode has finished\n",
    "    score += reward                                # update the score\n",
    "    state = next_state                             # roll over the state to next time step\n",
    "    if done:                                       # exit loop if episode finished\n",
    "        break\n",
    "    \n",
    "print(\"Score: {}\".format(score))"
   ]
  },
  {
   "cell_type": "markdown",
   "metadata": {},
   "source": [
    "When finished, you can close the environment."
   ]
  },
  {
   "cell_type": "code",
   "execution_count": 8,
   "metadata": {},
   "outputs": [],
   "source": [
    "#env.close()"
   ]
  },
  {
   "cell_type": "markdown",
   "metadata": {},
   "source": [
    "### 4. It's Your Turn!\n",
    "\n",
    "Now it's your turn to train your own agent to solve the environment!  A few **important notes**:\n",
    "- When training the environment, set `train_mode=True`, so that the line for resetting the environment looks like the following:\n",
    "```python\n",
    "env_info = env.reset(train_mode=True)[brain_name]\n",
    "```\n",
    "- To structure your work, you're welcome to work directly in this Jupyter notebook, or you might like to start over with a new file!  You can see the list of files in the workspace by clicking on **_Jupyter_** in the top left corner of the notebook.\n",
    "\n",
    "- In this coding environment, you will not be able to watch the agent while it is training.  However, **_after training the agent_**, you can download the saved model weights to watch the agent on your own machine! \n",
    "\n",
    "\n"
   ]
  },
  {
   "cell_type": "code",
   "execution_count": 9,
   "metadata": {},
   "outputs": [],
   "source": [
    "from dqn_agent import Agent\n",
    "\n",
    "state_size=37\n",
    "action_size=4\n",
    "seed=0\n",
    "\n",
    "# is_ddqn decides, if the algorithm use DQN  or DDQN\n",
    "is_double_Q_network = True\n",
    "is_experience_replay = True\n",
    "\n",
    "\n",
    "agent = Agent(state_size, action_size, seed, is_double_Q_network, is_experience_replay)\n"
   ]
  },
  {
   "cell_type": "code",
   "execution_count": 12,
   "metadata": {
    "scrolled": true
   },
   "outputs": [],
   "source": [
    "from collections import deque\n",
    "\n",
    "def dqn(n_episodes, max_t, eps_start, eps_end, eps_decay, Saved_Network_File):\n",
    "    \"\"\"Deep Q-Learning.\n",
    "    \n",
    "    Params\n",
    "    ======\n",
    "        n_episodes (int): maximum number of training episodes\n",
    "        max_t (int): maximum number of timesteps per episode\n",
    "        eps_start (float): starting value of epsilon, for epsilon-greedy action selection\n",
    "        eps_end (float): minimum value of epsilon\n",
    "        eps_decay (float): multiplicative factor (per episode) for decreasing epsilon\n",
    "    \"\"\"\n",
    "    scores = []                        # list containing scores from each episode\n",
    "    scores_window = deque(maxlen=100)  # last 100 scores\n",
    "    eps = eps_start                    # initialize epsilon\n",
    "    # print('Parameters: n_episodes: {}, max_t: {}, eps_start: {}, eps_end: {}, eps_decay: {}'.format(n_episodes, \\\n",
    "    #                                                                   max_t, eps_start, eps_end, eps_decay))\n",
    "    \n",
    "    print_stop = False\n",
    "    for i_episode in range(1, n_episodes+1):\n",
    "        \n",
    "        # state = env.reset()\n",
    "        env_info = env.reset(train_mode=True)[brain_name] # reset the environment\n",
    "        state = env_info.vector_observations[0]            # get the current state\n",
    "        \n",
    "        score = 0\n",
    "        for t in range(max_t):\n",
    "            \n",
    "            # Class: Agent  \n",
    "            # Statement: action = agent.act(state, eps) \n",
    "            # state: environment data\n",
    "            # eps: Control-Parameter to set up Epsilon-Greedy Algortihm\n",
    "                                                        \n",
    "            # act: Outputparameter --> action\n",
    "            # The Agent-Method \"act\" uses the local Network to pick up the  \n",
    "            # action for the given state according to the: \n",
    "            # - Epsilon-Greedy-Policy during the training \n",
    "            # - Policy of the trained Network (if eps = 0)\n",
    "            action = agent.act(state, eps) \n",
    "            action = int(action)\n",
    "            \n",
    "            env_info = env.step(action)[brain_name]        # send the action to the environment\n",
    "            next_state = env_info.vector_observations[0]   # get the next state\n",
    "            reward = env_info.rewards[0]                   # get the reward\n",
    "            done = env_info.local_done[0]                  # see if episode has finished\n",
    "            \n",
    "            # Class: Agent  \n",
    "            # Statement: agent.step(state, action, reward, next_state, done)\n",
    "            # The Methode \"step\" manage mainly:\n",
    "            # - the Replay-Buffer\n",
    "            # - the Network-Training\n",
    "            # - the Batch proceeding\n",
    "            agent.step(state, action, reward, next_state, done)\n",
    "        \n",
    "        \n",
    "            state = next_state\n",
    "            score += reward\n",
    "            if done:\n",
    "                break \n",
    "        scores_window.append(score)       # save most recent score\n",
    "        scores.append(score)              # save most recent score\n",
    "        eps = max(eps_end, eps_decay*eps) # decrease epsilon\n",
    "        print('\\rEpisode {}\\tAverage Score: {:.2f}'.format(i_episode, np.mean(scores_window)), end=\"\")\n",
    "        if i_episode % 100 == 0:\n",
    "            print('\\rEpisode {}\\tAverage Score: {:.2f}'.format(i_episode, np.mean(scores_window)))\n",
    "        if np.mean(scores_window)>=13 and print_stop == False:\n",
    "            print('\\nEnvironment solved in {:d} episodes!\\tAverage Score: {:.2f}'.format(i_episode, np.mean(scores_window)))\n",
    "            torch.save(agent.qnetwork_local.state_dict(), Saved_Network_File)\n",
    "            print_stop = True\n",
    "            # break\n",
    "    return scores\n",
    "\n"
   ]
  },
  {
   "cell_type": "markdown",
   "metadata": {},
   "source": [
    "### 5. Training for several Parameter-Sets"
   ]
  },
  {
   "cell_type": "code",
   "execution_count": 13,
   "metadata": {},
   "outputs": [
    {
     "name": "stdout",
     "output_type": "stream",
     "text": [
      "Episode 100\tAverage Score: 0.44\n",
      "Episode 200\tAverage Score: 2.78\n",
      "Episode 300\tAverage Score: 6.03\n",
      "Episode 400\tAverage Score: 6.49\n",
      "Episode 500\tAverage Score: 7.30\n",
      "Episode 600\tAverage Score: 7.26\n",
      "Episode 700\tAverage Score: 8.03\n",
      "Episode 800\tAverage Score: 9.43\n",
      "Episode 900\tAverage Score: 9.50\n",
      "Episode 1000\tAverage Score: 9.09\n"
     ]
    },
    {
     "data": {
      "image/png": "[encoded data removed]",
      "text/plain": [
       "<Figure size 432x288 with 1 Axes>"
      ]
     },
     "metadata": {
      "needs_background": "light"
     },
     "output_type": "display_data"
    }
   ],
   "source": [
    "# Training: Parameterset Nr. 1\n",
    "\n",
    "# Used Algorithm: Deep Q-Network (DQN) without Replay Buffer\n",
    "Saved_Network_File = \"ParametersetNr_1.pth\"\n",
    "n_episodes=1000\n",
    "max_t=1000\n",
    "eps_start=1.0\n",
    "eps_end=0.01\n",
    "eps_decay=0.995\n",
    "\n",
    "# Agent interface-Parameter\n",
    "state_size=37\n",
    "action_size=4\n",
    "seed=0\n",
    "is_double_Q_network = False\n",
    "is_experience_replay = False\n",
    "\n",
    "agent = Agent(state_size, action_size, seed, is_double_Q_network, is_experience_replay)\n",
    "scores = dqn(n_episodes, max_t, eps_start, eps_end, eps_decay, Saved_Network_File)\n",
    "\n",
    "# plot the scores\n",
    "fig = plt.figure()\n",
    "ax = fig.add_subplot(111)\n",
    "plt.plot(np.arange(len(scores)), scores)\n",
    "plt.ylabel('Score')\n",
    "plt.xlabel('Episode #')\n",
    "plt.show()"
   ]
  },
  {
   "cell_type": "code",
   "execution_count": 10,
   "metadata": {},
   "outputs": [
    {
     "name": "stdout",
     "output_type": "stream",
     "text": [
      "Episode 100\tAverage Score: 0.49\n",
      "Episode 200\tAverage Score: 4.73\n",
      "Episode 300\tAverage Score: 7.84\n",
      "Episode 400\tAverage Score: 10.81\n",
      "Episode 500\tAverage Score: 12.29\n",
      "Episode 580\tAverage Score: 13.08\n",
      "Environment solved in 580 episodes!\tAverage Score: 13.08\n",
      "Episode 600\tAverage Score: 13.75\n",
      "Episode 700\tAverage Score: 15.12\n",
      "Episode 800\tAverage Score: 15.58\n",
      "Episode 900\tAverage Score: 15.88\n",
      "Episode 1000\tAverage Score: 15.72\n"
     ]
    },
    {
     "data": {
      "image/png": "[encoded data removed]",
      "text/plain": [
       "<matplotlib.figure.Figure at 0x7f0cd07d8d30>"
      ]
     },
     "metadata": {
      "needs_background": "light"
     },
     "output_type": "display_data"
    }
   ],
   "source": [
    "\n",
    "# Training: Parameterset Nr. 2\n",
    "\n",
    "# Used Algorithm: Deep Q-Network (DQN) with Replay Buffer\n",
    "Saved_Network_File = \"ParametersetNr_2.pth\"\n",
    "n_episodes=1000\n",
    "max_t=1000\n",
    "eps_start=1.0\n",
    "eps_end=0.01\n",
    "eps_decay=0.995\n",
    "\n",
    "# Agent interface-Parameter\n",
    "state_size=37\n",
    "action_size=4\n",
    "seed=0\n",
    "is_double_Q_network = False\n",
    "is_experience_replay = True\n",
    "\n",
    "agent = Agent(state_size, action_size, seed, is_double_Q_network, is_experience_replay)\n",
    "scores = dqn(n_episodes, max_t, eps_start, eps_end, eps_decay, Saved_Network_File)\n",
    "\n",
    "# plot the scores\n",
    "fig = plt.figure()\n",
    "ax = fig.add_subplot(111)\n",
    "plt.plot(np.arange(len(scores)), scores)\n",
    "plt.ylabel('Score')\n",
    "plt.xlabel('Episode #')\n",
    "plt.show()\n"
   ]
  },
  {
   "cell_type": "code",
   "execution_count": 11,
   "metadata": {},
   "outputs": [
    {
     "name": "stdout",
     "output_type": "stream",
     "text": [
      "Episode 100\tAverage Score: 0.85\n",
      "Episode 200\tAverage Score: 4.06\n",
      "Episode 300\tAverage Score: 7.66\n",
      "Episode 400\tAverage Score: 11.06\n",
      "Episode 497\tAverage Score: 13.03\n",
      "Environment solved in 497 episodes!\tAverage Score: 13.03\n",
      "Episode 500\tAverage Score: 13.15\n",
      "Episode 600\tAverage Score: 14.20\n",
      "Episode 700\tAverage Score: 16.08\n",
      "Episode 800\tAverage Score: 15.13\n",
      "Episode 900\tAverage Score: 14.73\n",
      "Episode 1000\tAverage Score: 15.30\n"
     ]
    },
    {
     "data": {
      "image/png": "[encoded data removed]",
      "text/plain": [
       "<matplotlib.figure.Figure at 0x7f0cbdd91b00>"
      ]
     },
     "metadata": {
      "needs_background": "light"
     },
     "output_type": "display_data"
    }
   ],
   "source": [
    "\n",
    "# Training: Parameterset Nr. 3\n",
    "\n",
    "# Used Algorithm: Deep Double Q-Network (DDQN) with Replay Buffer \n",
    "Saved_Network_File = \"ParametersetNr_3.pth\"\n",
    "n_episodes=1000\n",
    "max_t=1000\n",
    "eps_start=1.0\n",
    "eps_end=0.01\n",
    "eps_decay=0.995\n",
    "\n",
    "# Agent interface-Parameter\n",
    "state_size=37\n",
    "action_size=4\n",
    "seed=0\n",
    "is_double_Q_network = True\n",
    "is_experience_replay = True\n",
    "\n",
    "agent = Agent(state_size, action_size, seed, is_double_Q_network, is_experience_replay)\n",
    "scores = dqn(n_episodes, max_t, eps_start, eps_end, eps_decay, Saved_Network_File)\n",
    "\n",
    "# plot the scores\n",
    "fig = plt.figure()\n",
    "ax = fig.add_subplot(111)\n",
    "plt.plot(np.arange(len(scores)), scores)\n",
    "plt.ylabel('Score')\n",
    "plt.xlabel('Episode #')\n",
    "plt.show()\n"
   ]
  },
  {
   "cell_type": "code",
   "execution_count": 9,
   "metadata": {},
   "outputs": [
    {
     "name": "stdout",
     "output_type": "stream",
     "text": [
      "Episode 100\tAverage Score: 2.36\n",
      "Episode 200\tAverage Score: 8.19\n",
      "Episode 300\tAverage Score: 11.82\n",
      "Episode 356\tAverage Score: 13.00\n",
      "Environment solved in 356 episodes!\tAverage Score: 13.00\n",
      "Episode 400\tAverage Score: 13.94\n",
      "Episode 500\tAverage Score: 15.52\n",
      "Episode 600\tAverage Score: 15.79\n",
      "Episode 700\tAverage Score: 15.63\n",
      "Episode 800\tAverage Score: 15.37\n",
      "Episode 900\tAverage Score: 15.72\n",
      "Episode 1000\tAverage Score: 14.91\n"
     ]
    },
    {
     "data": {
      "image/png": "[encoded data removed]",
      "text/plain": [
       "<matplotlib.figure.Figure at 0x7fce88018a58>"
      ]
     },
     "metadata": {
      "needs_background": "light"
     },
     "output_type": "display_data"
    }
   ],
   "source": [
    "\n",
    "# Training: Parameterset Nr. 4\n",
    "# Used Algorithm: Double-Deep Q-Network (DDQN)  with Replay Buffer, tweaking eps-Parameters\n",
    "\n",
    "Saved_Network_File = \"ParametersetNr_4.pth\"\n",
    "n_episodes=1000\n",
    "max_t=1000\n",
    "eps_start=0.95\n",
    "eps_end=0.01\n",
    "eps_decay=0.985\n",
    "\n",
    "# Agent interface-Parameter\n",
    "state_size=37\n",
    "action_size=4\n",
    "seed=0\n",
    "is_double_Q_network = True\n",
    "is_experience_replay = True\n",
    "\n",
    "\n",
    "\n",
    "agent = Agent(state_size, action_size, seed, is_double_Q_network, is_experience_replay)\n",
    "scores = dqn(n_episodes, max_t, eps_start, eps_end, eps_decay, Saved_Network_File)\n",
    "\n",
    "# plot the scores\n",
    "fig = plt.figure()\n",
    "ax = fig.add_subplot(111)\n",
    "plt.plot(np.arange(len(scores)), scores)\n",
    "plt.ylabel('Score')\n",
    "plt.xlabel('Episode #')\n",
    "plt.show()\n"
   ]
  },
  {
   "cell_type": "code",
   "execution_count": 10,
   "metadata": {},
   "outputs": [
    {
     "name": "stdout",
     "output_type": "stream",
     "text": [
      "Episode 100\tAverage Score: 2.00\n",
      "Episode 200\tAverage Score: 8.82\n",
      "Episode 300\tAverage Score: 12.21\n",
      "Episode 357\tAverage Score: 13.08\n",
      "Environment solved in 357 episodes!\tAverage Score: 13.08\n",
      "Episode 400\tAverage Score: 13.76\n",
      "Episode 500\tAverage Score: 15.15\n",
      "Episode 600\tAverage Score: 16.02\n",
      "Episode 700\tAverage Score: 16.17\n",
      "Episode 800\tAverage Score: 15.71\n",
      "Episode 900\tAverage Score: 15.84\n",
      "Episode 1000\tAverage Score: 15.74\n"
     ]
    },
    {
     "data": {
      "image/png": "[encoded data removed]",
      "text/plain": [
       "<matplotlib.figure.Figure at 0x7fce847dcc88>"
      ]
     },
     "metadata": {
      "needs_background": "light"
     },
     "output_type": "display_data"
    }
   ],
   "source": [
    "#Training: Parameterset Nr. 5\n",
    "\n",
    "# Used Algorithm: Double-Deep Q-Network (DDQN) with Replay Buffer\n",
    "Saved_Network_File = \"ParametersetNr_5.pth\"\n",
    "n_episodes=1000\n",
    "max_t=1000\n",
    "eps_start=0.975\n",
    "eps_end=0.01\n",
    "eps_decay=0.975\n",
    "\n",
    "# Agent interface-Parameter\n",
    "state_size=37\n",
    "action_size=4\n",
    "seed=0\n",
    "is_double_Q_network = True\n",
    "is_experience_replay = True\n",
    "\n",
    "# is_ddqn decides, if the algorithm use DQN  or DDQN\n",
    "\n",
    "agent = Agent(state_size, action_size, seed, is_double_Q_network, is_experience_replay)\n",
    "scores = dqn(n_episodes, max_t, eps_start, eps_end, eps_decay, Saved_Network_File)\n",
    "\n",
    "# plot the scores\n",
    "fig = plt.figure()\n",
    "ax = fig.add_subplot(111)\n",
    "plt.plot(np.arange(len(scores)), scores)\n",
    "plt.ylabel('Score')\n",
    "plt.xlabel('Episode #')\n",
    "plt.show()\n"
   ]
  },
  {
   "cell_type": "code",
   "execution_count": null,
   "metadata": {},
   "outputs": [],
   "source": [
    "env.close()"
   ]
  },
  {
   "cell_type": "markdown",
   "metadata": {},
   "source": [
    "### 6. Show a trained Model moving in Unitiy-Environment\n",
    "(only for running on local windows-machine)"
   ]
  },
  {
   "cell_type": "code",
   "execution_count": null,
   "metadata": {},
   "outputs": [],
   "source": [
    "'''\n",
    "brain = env.brains[brain_name]\n",
    "print(\"brain_name\", brain_name)\n",
    "\n",
    "device = torch.device(\"cuda:0\" if torch.cuda.is_available() else \"cpu\")\n",
    "print(\"device\", device)\n",
    "\n",
    "#load a trained model\n",
    "agent.qnetwork_local.load_state_dict(torch.load('.\\ParametersetNr_1.pth', map_location={'cuda:0': 'cpu'}))\n",
    "#agent.qnetwork_local.load_state_dict(torch.load('ParametersetNr_1.pth'))\n",
    "\n",
    "env_info = env.reset(train_mode=False)[brain_name] # reset the environment for Use-Mode (train_mode = False)\n",
    "\n",
    "state = env_info.vector_observations[0]            # get state-Starting-Point\n",
    "print(\"state\", state)\n",
    "\n",
    "While True:\n",
    "    action = agent.act(state)                      # The agend uses the trained model to get the best action\n",
    "                                                   # As \"act\" gets only one parameter. Epsilon will be  0, \n",
    "                                                   # so no Random-Action is possible. (see act-Parameters)\n",
    "    action = int (action)                          # Just tu avoid an compatibility-error-message\n",
    "    env_info = env.step(action)[brain_name]        # send the action to the environment\n",
    "    next_state = env_info.vector_observations[0]   # get the next state\n",
    "    done = env_info.local_done[0]                  # see if episode has finished\n",
    "    state = next_state                             # roll over the state to next time step\n",
    "    if done:                                       # exit loop if episode finished\n",
    "        break\n",
    "        \n",
    "'''"
   ]
  },
  {
   "cell_type": "code",
   "execution_count": null,
   "metadata": {},
   "outputs": [],
   "source": []
  },
  {
   "cell_type": "markdown",
   "metadata": {},
   "source": []
  },
  {
   "cell_type": "markdown",
   "metadata": {},
   "source": []
  },
  {
   "cell_type": "code",
   "execution_count": null,
   "metadata": {},
   "outputs": [],
   "source": []
  },
  {
   "cell_type": "code",
   "execution_count": null,
   "metadata": {},
   "outputs": [],
   "source": []
  },
  {
   "cell_type": "code",
   "execution_count": null,
   "metadata": {},
   "outputs": [],
   "source": []
  }
 ],
 "metadata": {
  "kernelspec": {
   "display_name": "Python 3",
   "language": "python",
   "name": "python3"
  },
  "language_info": {
   "codemirror_mode": {
    "name": "ipython",
    "version": 3
   },
   "file_extension": ".py",
   "mimetype": "text/x-python",
   "name": "python",
   "nbconvert_exporter": "python",
   "pygments_lexer": "ipython3",
   "version": "3.6.3"
  }
 },
 "nbformat": 4,
 "nbformat_minor": 2
}
